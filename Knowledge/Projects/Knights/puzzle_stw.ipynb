{
 "cells": [
  {
   "cell_type": "code",
   "execution_count": 46,
   "metadata": {},
   "outputs": [],
   "source": [
    "from logic import *\n",
    "\n",
    "AKnight = Symbol(\"A is a Knight\")\n",
    "AKnave = Symbol(\"A is a Knave\")\n",
    "\n",
    "BKnight = Symbol(\"B is a Knight\")\n",
    "BKnave = Symbol(\"B is a Knave\")\n",
    "\n",
    "CKnight = Symbol(\"C is a Knight\")\n",
    "CKnave = Symbol(\"C is a Knave\")\n"
   ]
  },
  {
   "cell_type": "code",
   "execution_count": 47,
   "metadata": {},
   "outputs": [],
   "source": [
    "# print((And(AKnight, AKnave)).formula())\n",
    "# print(Or(AKnight, AKnave).formula())\n",
    "# print(Implication(AKnight, Not(AKnave)).formula())\n",
    "# print(Biconditional(AKnight, Not(AKnave)).formula())\n",
    "\n",
    "# print(Implication(Not(And(AKnight, AKnave)), AKnight).formula())"
   ]
  },
  {
   "cell_type": "code",
   "execution_count": 49,
   "metadata": {},
   "outputs": [],
   "source": [
    "# Puzzle 0\n",
    "# A says \"I am both a knight and a knave.\"\n",
    "knowledge0 = And(\n",
    "    # General knowledge\n",
    "    ## Can either be a knight or a knave but not both\n",
    "    And(Or(AKnight, AKnave),Not(And(AKnight, AKnave))),\n",
    "\n",
    "    ## Every sentence from a knight is true\n",
    "    # If AKnight and AKnave == True, it is a Knight\n",
    "    Implication(And(AKnight, AKnave),AKnight),    \n",
    "\n",
    "    ## Every sentence from a knave is false\n",
    "    # If AKnight and AKnave together is not true, it is a Knave\n",
    "    Implication(Not(And(AKnight, AKnave)), AKnave)    \n",
    "\n",
    ")\n",
    "\n"
   ]
  },
  {
   "cell_type": "code",
   "execution_count": 53,
   "metadata": {},
   "outputs": [],
   "source": [
    "# Puzzle 1\n",
    "# A says \"We are both knaves.\"\n",
    "# B says nothing.\n",
    "knowledge1 = And(\n",
    "# General knowledge\n",
    "    ## Can either be a knight or a knave but not both\n",
    "    And(Or(AKnight, AKnave), Not(And(AKnight, AKnave))),\n",
    "    \n",
    "    # puzzle-specific knowledge\n",
    "    ## If AKnave and BKnave == True, A is a knight\n",
    "    Implication(And(AKnave, BKnave), AKnight),\n",
    "\n",
    "    ## If AKnave and BKnave == False, A is a knave\n",
    "    Implication(Not(And(AKnave, BKnave)), AKnave),\n",
    "    ## If A is a knave and A's sentence is false, B is a knight\n",
    "    Implication(And(AKnave,Not(And(AKnave,BKnave))), BKnight)\n",
    ")\n",
    "\n"
   ]
  },
  {
   "cell_type": "code",
   "execution_count": 60,
   "metadata": {},
   "outputs": [],
   "source": [
    "# Puzzle 2\n",
    "# A says \"We are the same kind.\"\n",
    "# B says \"We are of different kinds.\"\n",
    "knowledge2 = And(\n",
    "# General knowledge\n",
    "    ## Can either be a knight or a knave but not both\n",
    "    And(Or(AKnight, AKnave), Not(And(AKnight, AKnave))),\n",
    "\n",
    "    # puzzle-specific knowledge\n",
    "    # If A's statement is true, A is a Knight\n",
    "    Implication(Or(And(AKnight, BKnight),And(AKnave, BKnave)), AKnight),\n",
    "\n",
    "    # If A's statement is false, A is a Knave\n",
    "    Implication(Not(Or(And(AKnight, BKnight),And(AKnave, BKnave))), AKnave),\n",
    "    \n",
    "    Implication(BKnight, AKnave),\n",
    "    \n",
    "    Implication(AKnight, BKnight),\n",
    "\n",
    "#     Or(And(AKnave, BKnave),And(AKnight,BKnight)), Not(And(And(AKnave, BKnave),And(AKnight,BKnight)))\n",
    "    \n",
    "    # If B's statement is true, B is a knight\n",
    "    Implication(Or(And(AKnight, BKnave), And(AKnave, BKnight)), BKnight),\n",
    "    \n",
    "    # If B's statement is false, B is a knave\n",
    "    Implication(Not(Or(And(AKnight, BKnave), And(AKnave, BKnight))), BKnave)\n",
    "\n",
    ")\n",
    "\n"
   ]
  },
  {
   "cell_type": "code",
   "execution_count": 70,
   "metadata": {},
   "outputs": [],
   "source": [
    "# Puzzle 3\n",
    "# A says either \"I am a knight.\" or \"I am a knave.\", but you don't know which.\n",
    "# B says \"A said 'I am a knave'.\"\n",
    "# B says \"C is a knave.\"\n",
    "# C says \"A is a knight.\"\n",
    "knowledge3 = And(\n",
    "    ## Can either be a knight or a knave but not both\n",
    "    And(Or(AKnight, AKnave), Not(And(AKnight, AKnave))),\n",
    "    \n",
    "    # If A says \"I am a knight\":\n",
    "    Implication(AKnight, AKnight),\n",
    "    # If A says \"I am a knave\":\n",
    "        ## Paradox: If a knave says they're a knave they're telling the truth, but a knave can only lie\n",
    "    Implication(AKnave, Not(AKnave)),\n",
    "    \n",
    "    # If B says \"A said \"I am a knave\"\" and A says \"I am a knave\"\n",
    "    Implication(AKnave, BKnave),\n",
    "    \n",
    "    Implication(AKnight, BKnave),\n",
    "    \n",
    "    # If B's statement is true, B is a knight and C is a knave\n",
    "    Implication(CKnave, And(BKnight, CKnave)),\n",
    "    \n",
    "    # If C's statement is true, A is a knight and C is a knight\n",
    "    Implication(AKnight, And(AKnight, CKnight))\n",
    "     \n",
    ")"
   ]
  },
  {
   "cell_type": "code",
   "execution_count": 71,
   "metadata": {
    "scrolled": true
   },
   "outputs": [
    {
     "name": "stdout",
     "output_type": "stream",
     "text": [
      "Puzzle 0\n",
      "    A is a Knave\n",
      "Puzzle 1\n",
      "    A is a Knave\n",
      "    B is a Knight\n",
      "Puzzle 2\n",
      "    A is a Knave\n",
      "    B is a Knight\n",
      "Puzzle 3\n",
      "    A is a Knight\n",
      "    B is a Knave\n",
      "    C is a Knight\n"
     ]
    }
   ],
   "source": [
    "def main():\n",
    "    symbols = [AKnight, AKnave, BKnight, BKnave, CKnight, CKnave]\n",
    "    puzzles = [\n",
    "        (\"Puzzle 0\", knowledge0),\n",
    "        (\"Puzzle 1\", knowledge1),\n",
    "        (\"Puzzle 2\", knowledge2),\n",
    "        (\"Puzzle 3\", knowledge3)\n",
    "    ]\n",
    "    for puzzle, knowledge in puzzles:\n",
    "        print(puzzle)\n",
    "        if len(knowledge.conjuncts) == 0:\n",
    "            print(\"    Not yet implemented.\")\n",
    "        else:\n",
    "            for symbol in symbols:\n",
    "                if model_check(knowledge, symbol):\n",
    "                    print(f\"    {symbol}\")\n",
    "\n",
    "\n",
    "if __name__ == \"__main__\":\n",
    "    main()"
   ]
  },
  {
   "cell_type": "code",
   "execution_count": null,
   "metadata": {},
   "outputs": [],
   "source": []
  },
  {
   "cell_type": "code",
   "execution_count": null,
   "metadata": {},
   "outputs": [],
   "source": []
  }
 ],
 "metadata": {
  "kernelspec": {
   "display_name": "Python 3",
   "language": "python",
   "name": "python3"
  },
  "language_info": {
   "codemirror_mode": {
    "name": "ipython",
    "version": 3
   },
   "file_extension": ".py",
   "mimetype": "text/x-python",
   "name": "python",
   "nbconvert_exporter": "python",
   "pygments_lexer": "ipython3",
   "version": "3.8.5"
  }
 },
 "nbformat": 4,
 "nbformat_minor": 4
}
