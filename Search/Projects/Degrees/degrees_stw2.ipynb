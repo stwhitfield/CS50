{
 "cells": [
  {
   "cell_type": "code",
   "execution_count": 19,
   "metadata": {},
   "outputs": [],
   "source": [
    "import csv\n",
    "import sys\n",
    "\n",
    "from util import Node, StackFrontier, QueueFrontier\n",
    "\n",
    "# Maps names to a set of corresponding person_ids\n",
    "names = {}\n",
    "\n",
    "# Maps person_ids to a dictionary of: name, birth, movies (a set of movie_ids)\n",
    "people = {}\n",
    "\n",
    "# Maps movie_ids to a dictionary of: title, year, stars (a set of person_ids)\n",
    "movies = {}"
   ]
  },
  {
   "cell_type": "code",
   "execution_count": 20,
   "metadata": {},
   "outputs": [],
   "source": [
    "directory = \"C:/Users/STW/Documents/Harvard EdX CS50/Search/Projects/Degrees/small\"\n",
    "\n",
    "def load_data(directory):\n",
    "    \"\"\"\n",
    "    Load data from CSV files into memory.\n",
    "    \"\"\"\n",
    "    # Load people\n",
    "    with open(directory+\"/people.csv\", encoding=\"utf-8\") as f:\n",
    "        reader = csv.DictReader(f)\n",
    "        for row in reader:\n",
    "            people[row[\"id\"]] = {\n",
    "                \"name\": row[\"name\"],\n",
    "                \"birth\": row[\"birth\"],\n",
    "                \"movies\": set()\n",
    "            }\n",
    "            if row[\"name\"].lower() not in names:\n",
    "                names[row[\"name\"].lower()] = {row[\"id\"]}\n",
    "            else:\n",
    "                names[row[\"name\"].lower()].add(row[\"id\"])\n",
    "\n",
    "    # Load movies\n",
    "    with open(directory+\"/movies.csv\", encoding=\"utf-8\") as f:\n",
    "        reader = csv.DictReader(f)\n",
    "        for row in reader:\n",
    "            movies[row[\"id\"]] = {\n",
    "                \"title\": row[\"title\"],\n",
    "                \"year\": row[\"year\"],\n",
    "                \"stars\": set()\n",
    "            }\n",
    "\n",
    "    # Load stars\n",
    "    with open(directory+\"/stars.csv\", encoding=\"utf-8\") as f:\n",
    "        reader = csv.DictReader(f)\n",
    "        for row in reader:\n",
    "            try:\n",
    "                people[row[\"person_id\"]][\"movies\"].add(row[\"movie_id\"])\n",
    "                movies[row[\"movie_id\"]][\"stars\"].add(row[\"person_id\"])\n",
    "            except KeyError:\n",
    "                pass"
   ]
  },
  {
   "cell_type": "code",
   "execution_count": 30,
   "metadata": {},
   "outputs": [
    {
     "name": "stdout",
     "output_type": "stream",
     "text": [
      "None\n",
      "{'kevin bacon': {'102'}, 'tom cruise': {'129'}, 'cary elwes': {'144'}, 'tom hanks': {'158'}, 'mandy patinkin': {'1597'}, 'dustin hoffman': {'163'}, 'chris sarandon': {'1697'}, 'demi moore': {'193'}, 'jack nicholson': {'197'}, 'bill paxton': {'200'}, 'sally field': {'398'}, 'valeria golino': {'420'}, 'gerald r. molen': {'596520'}, 'gary sinise': {'641'}, 'robin wright': {'705'}, 'emma watson': {'914612'}}\n",
      "{'102': {'name': 'Kevin Bacon', 'birth': '1958', 'movies': {'112384', '104257'}}, '129': {'name': 'Tom Cruise', 'birth': '1962', 'movies': {'95953', '104257'}}, '144': {'name': 'Cary Elwes', 'birth': '1962', 'movies': {'93779'}}, '158': {'name': 'Tom Hanks', 'birth': '1956', 'movies': {'112384', '109830'}}, '1597': {'name': 'Mandy Patinkin', 'birth': '1952', 'movies': {'93779'}}, '163': {'name': 'Dustin Hoffman', 'birth': '1937', 'movies': {'95953'}}, '1697': {'name': 'Chris Sarandon', 'birth': '1942', 'movies': {'93779'}}, '193': {'name': 'Demi Moore', 'birth': '1962', 'movies': {'104257'}}, '197': {'name': 'Jack Nicholson', 'birth': '1937', 'movies': {'104257'}}, '200': {'name': 'Bill Paxton', 'birth': '1955', 'movies': {'112384'}}, '398': {'name': 'Sally Field', 'birth': '1946', 'movies': {'109830'}}, '420': {'name': 'Valeria Golino', 'birth': '1965', 'movies': {'95953'}}, '596520': {'name': 'Gerald R. Molen', 'birth': '1935', 'movies': {'95953'}}, '641': {'name': 'Gary Sinise', 'birth': '1955', 'movies': {'112384', '109830'}}, '705': {'name': 'Robin Wright', 'birth': '1966', 'movies': {'109830', '93779'}}, '914612': {'name': 'Emma Watson', 'birth': '1990', 'movies': set()}}\n",
      "{'112384': {'title': 'Apollo 13', 'year': '1995', 'stars': {'200', '102', '641', '158'}}, '104257': {'title': 'A Few Good Men', 'year': '1992', 'stars': {'193', '129', '102', '197'}}, '109830': {'title': 'Forrest Gump', 'year': '1994', 'stars': {'158', '641', '705', '398'}}, '93779': {'title': 'The Princess Bride', 'year': '1987', 'stars': {'1597', '144', '705', '1697'}}, '95953': {'title': 'Rain Man', 'year': '1988', 'stars': {'129', '420', '596520', '163'}}}\n"
     ]
    }
   ],
   "source": [
    "print(load_data(directory))\n",
    "print(names)\n",
    "print(people)\n",
    "print(movies)\n"
   ]
  },
  {
   "cell_type": "code",
   "execution_count": 22,
   "metadata": {},
   "outputs": [],
   "source": [
    "def main():\n",
    "    if len(sys.argv) > 2:\n",
    "        sys.exit(\"Usage: python degrees.py [directory]\")\n",
    "    directory = sys.argv[1] if len(sys.argv) == 2 else \"large\"\n",
    "\n",
    "    # Load data from files into memory\n",
    "    print(\"Loading data...\")\n",
    "    load_data(directory)\n",
    "    print(\"Data loaded.\")\n",
    "\n",
    "    source = person_id_for_name(input(\"Name: \"))\n",
    "    if source is None:\n",
    "        sys.exit(\"Person not found.\")\n",
    "    target = person_id_for_name(input(\"Name: \"))\n",
    "    if target is None:\n",
    "        sys.exit(\"Person not found.\")\n",
    "\n",
    "    path = shortest_path(source, target)\n",
    "\n",
    "    if path is None:\n",
    "        print(\"Not connected.\")\n",
    "    else:\n",
    "        degrees = len(path)\n",
    "        print(f\"{degrees} degrees of separation.\")\n",
    "        path = [(None, source)] + path\n",
    "        for i in range(degrees):\n",
    "            person1 = people[path[i][1]][\"name\"]\n",
    "            person2 = people[path[i + 1][1]][\"name\"]\n",
    "            movie = movies[path[i + 1][0]][\"title\"]\n",
    "            print(f\"{i + 1}: {person1} and {person2} starred in {movie}\")\n"
   ]
  },
  {
   "cell_type": "code",
   "execution_count": 23,
   "metadata": {},
   "outputs": [],
   "source": [
    "def shortest_path(source, target):\n",
    "    \"\"\"\n",
    "    Returns the shortest list of (movie_id, person_id) pairs\n",
    "    that connect the source to the target.\n",
    "\n",
    "    If no possible path, returns None.\n",
    "    \"\"\"\n",
    "    # Initialize frontier to the source\n",
    "    start = Node(state=self.source, parent=None, action=None)\n",
    "    frontier = QueueFrontier()\n",
    "    frontier.add(start)\n",
    "    \n",
    "    # Initialize an empty explored set\n",
    "    self.explored = set()\n",
    "\n",
    "    # Keep looping until solution found\n",
    "    while True:\n",
    "\n",
    "        # If nothing left in frontier, then no path\n",
    "        if frontier.empty():\n",
    "            raise Exception(\"no solution\")\n",
    "\n",
    "        # Choose a node from the frontier\n",
    "        node = frontier.remove()\n",
    "        self.num_explored += 1\n",
    "\n",
    "        # If node is the goal, then we have a solution\n",
    "        # starting from the goal node (last):\n",
    "        if node.state == self.goal:\n",
    "            # make a list for the path (relations)\n",
    "            path = []\n",
    "#             actions = []\n",
    "#             cells = []\n",
    "            # if you haven't re-traced the path all the way to the beginning\n",
    "            while node.parent is not None:\n",
    "                # add the current node's attributes (movie, person_id) to the path list\n",
    "                path.append((node.action,node.state))\n",
    "#                 actions.append(node.action)\n",
    "#                 cells.append(node.state)\n",
    "                # then set the node \"one up\" (one closer to the source node)\n",
    "                node = node.parent\n",
    "            path.reverse()\n",
    "#             actions.reverse()\n",
    "#             cells.reverse()\n",
    "            self.solution = path\n",
    "            return\n",
    "\n",
    "        # Mark node as explored\n",
    "        self.explored.add(node)\n",
    "\n",
    "        # Add neighbors to frontier\n",
    "        for action, state in self.neighbors_for_person(node.state):\n",
    "            if not frontier.contains_state(state) and state not in self.explored:\n",
    "                child = Node(state=state, parent=node, action=action)\n",
    "                frontier.add(child)\n",
    "\n",
    "    \n",
    "    # TODO\n",
    "    # raise NotImplementedError\n",
    "    "
   ]
  },
  {
   "cell_type": "code",
   "execution_count": 24,
   "metadata": {},
   "outputs": [],
   "source": [
    "def person_id_for_name(name):\n",
    "    \"\"\"\n",
    "    Returns the IMDB id for a person's name,\n",
    "    resolving ambiguities as needed.\n",
    "    \"\"\"\n",
    "    person_ids = list(names.get(name.lower(), set()))\n",
    "    if len(person_ids) == 0:\n",
    "        return None\n",
    "    elif len(person_ids) > 1:\n",
    "        print(f\"Which '{name}'?\")\n",
    "        for person_id in person_ids:\n",
    "            person = people[person_id]\n",
    "            name = person[\"name\"]\n",
    "            birth = person[\"birth\"]\n",
    "            print(f\"ID: {person_id}, Name: {name}, Birth: {birth}\")\n",
    "        try:\n",
    "            person_id = input(\"Intended Person ID: \")\n",
    "            if person_id in person_ids:\n",
    "                return person_id\n",
    "        except ValueError:\n",
    "            pass\n",
    "        return None\n",
    "    else:\n",
    "        return person_ids[0]\n",
    "    "
   ]
  },
  {
   "cell_type": "code",
   "execution_count": 25,
   "metadata": {},
   "outputs": [],
   "source": [
    "def neighbors_for_person(person_id):\n",
    "    \"\"\"\n",
    "    Returns (movie_id, person_id) pairs for people\n",
    "    who starred with a given person.\n",
    "    \"\"\"\n",
    "    movie_ids = people[person_id][\"movies\"]\n",
    "    neighbors = set()\n",
    "    for movie_id in movie_ids:\n",
    "        for person_id in movies[movie_id][\"stars\"]:\n",
    "            neighbors.add((movie_id, person_id))\n",
    "    return neighbors\n",
    "\n"
   ]
  },
  {
   "cell_type": "code",
   "execution_count": 26,
   "metadata": {},
   "outputs": [
    {
     "ename": "SystemExit",
     "evalue": "Usage: python degrees.py [directory]",
     "output_type": "error",
     "traceback": [
      "An exception has occurred, use %tb to see the full traceback.\n",
      "\u001b[1;31mSystemExit\u001b[0m\u001b[1;31m:\u001b[0m Usage: python degrees.py [directory]\n"
     ]
    },
    {
     "name": "stderr",
     "output_type": "stream",
     "text": [
      "C:\\ProgramData\\Anaconda3\\lib\\site-packages\\IPython\\core\\interactiveshell.py:3426: UserWarning: To exit: use 'exit', 'quit', or Ctrl-D.\n",
      "  warn(\"To exit: use 'exit', 'quit', or Ctrl-D.\", stacklevel=1)\n"
     ]
    }
   ],
   "source": [
    "if __name__ == \"__main__\":\n",
    "    main()"
   ]
  },
  {
   "cell_type": "code",
   "execution_count": null,
   "metadata": {},
   "outputs": [],
   "source": []
  }
 ],
 "metadata": {
  "kernelspec": {
   "display_name": "Python 3",
   "language": "python",
   "name": "python3"
  },
  "language_info": {
   "codemirror_mode": {
    "name": "ipython",
    "version": 3
   },
   "file_extension": ".py",
   "mimetype": "text/x-python",
   "name": "python",
   "nbconvert_exporter": "python",
   "pygments_lexer": "ipython3",
   "version": "3.8.5"
  }
 },
 "nbformat": 4,
 "nbformat_minor": 4
}
